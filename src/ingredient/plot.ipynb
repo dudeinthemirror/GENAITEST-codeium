{
 "cells": [
  {
   "cell_type": "code",
   "execution_count": 1,
   "metadata": {},
   "outputs": [],
   "source": [
    "# create a file 'recipes.json' with a list of recipes\n",
    "import json\n",
    "\n",
    "recipes = {\n",
    "    \"pie\": [\"flour\", \"pepperoni\", \"tomato\", \"cheese\", \"salt\", \"pepper\"],\n",
    "    \"cake\": [\"flour\", \"milk\", \"sugar\", \"cheese\"],\n",
    "    \"icecream\": [\"milk\", \"sugar\", \"nuts\"],\n",
    "    \"soup\": [\"water\", \"meat\", \"salt\", \"pepper\", \"potatoes\"],\n",
    "    \"fries\": [\"potatoes\", \"salt\", \"pepper\", \"oil\"],\n",
    "    \"salad\": [\"lettuce\", \"tomato\", \"cucumber\", \"onion\", \"oil\", \"salt\", \"pepper\"],\n",
    "    \"pasta\": [\"flour\", \"water\", \"sauce\", \"pepper\", \"salt\"]\n",
    "}\n",
    "\n",
    "with open(\"recipes.json\", \"w\") as f:\n",
    "    json.dump(recipes, f, indent=4)\n",
    "\n",
    "# use autosuggest to add more recipes\n",
    "# cleanup hallucinations if any"
   ]
  },
  {
   "cell_type": "markdown",
   "metadata": {},
   "source": [
    "- ### in Chat\n",
    "\n",
    "  given a dictionary of recipes, where each recipe is represented as a list of ingredients. \n",
    "  Create a python function that returns the second most used ingredient."
   ]
  },
  {
   "cell_type": "markdown",
   "metadata": {},
   "source": [
    "- ### in Editor - second_ingredient.py\n",
    "\n",
    "  - Refactor -> Verbosely comment this code so I can understand what's going on"
   ]
  },
  {
   "cell_type": "markdown",
   "metadata": {},
   "source": [
    "- ### in Chat\n",
    "\n",
    "  - explain line ... in @function...\n",
    "  - Generate Docstring"
   ]
  },
  {
   "cell_type": "markdown",
   "metadata": {},
   "source": [
    "- ### in Editor - second_ingredient.py\n",
    "\n",
    "  - Refactor -> add logic such that this function can be called from the command line; assume the input dictionary of recipes is taken from a json file in the same directory"
   ]
  },
  {
   "cell_type": "markdown",
   "metadata": {},
   "source": [
    "- ### in Terminal\n",
    "\n",
    "  ```\n",
    "  python ./second_ingredient.py\n",
    "  ```\n"
   ]
  },
  {
   "cell_type": "markdown",
   "metadata": {},
   "source": [
    "- ### in Editor - second_ingredient.py\n",
    "\n",
    "  - add a print statement before the return from the function, to check if the function is working as expected"
   ]
  },
  {
   "cell_type": "markdown",
   "metadata": {},
   "source": [
    "- ### in Editor - test_second_ingredient.py\n",
    "\n",
    "  - Refactor -> Generate unit tests\n"
   ]
  },
  {
   "cell_type": "markdown",
   "metadata": {},
   "source": [
    "- ### in Terminal\n",
    "\n",
    "  ```\n",
    "  pytest ./test_second_ingredient.py\n",
    "  ```"
   ]
  },
  {
   "cell_type": "markdown",
   "metadata": {},
   "source": [
    "\n",
    "- ### in Editor - second_ingredient.py\n",
    "\n",
    "  - fix logic if the function does not handle case where you have more that one most used ingredient\n",
    "\n",
    "      '# assign the count of the first ingredient in the sorted list to cnt'\n",
    "      \n",
    "      '# iterate through sorted_ingredients and return the first ingredient for which the count is different from cnt'\n",
    "\n",
    "  - add edge cases via inline comments:\n",
    "  \n",
    "      '# if the input is not a dictionary, raise an error'\n",
    "  \n",
    "      '# if the input is an empty dictionary, return none'\n",
    "\n",
    "\n"
   ]
  }
 ],
 "metadata": {
  "kernelspec": {
   "display_name": "base",
   "language": "python",
   "name": "python3"
  },
  "language_info": {
   "codemirror_mode": {
    "name": "ipython",
    "version": 3
   },
   "file_extension": ".py",
   "mimetype": "text/x-python",
   "name": "python",
   "nbconvert_exporter": "python",
   "pygments_lexer": "ipython3",
   "version": "3.9.18"
  }
 },
 "nbformat": 4,
 "nbformat_minor": 2
}
